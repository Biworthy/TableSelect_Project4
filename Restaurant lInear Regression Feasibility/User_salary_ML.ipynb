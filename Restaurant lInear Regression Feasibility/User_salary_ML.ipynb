{
 "cells": [
  {
   "cell_type": "code",
   "execution_count": 1,
   "metadata": {
    "ExecuteTime": {
     "end_time": "2022-05-23T18:14:59.045021Z",
     "start_time": "2022-05-23T18:14:59.030022Z"
    }
   },
   "outputs": [],
   "source": [
    "import sys"
   ]
  },
  {
   "cell_type": "code",
   "execution_count": 14,
   "metadata": {
    "ExecuteTime": {
     "end_time": "2022-05-23T18:15:14.351020Z",
     "start_time": "2022-05-23T18:14:59.046021Z"
    },
    "scrolled": true
   },
   "outputs": [
    {
     "name": "stdout",
     "output_type": "stream",
     "text": [
      "Requirement already satisfied: numpy in c:\\programdata\\anaconda3\\lib\\site-packages (1.18.5)\n",
      "Requirement already satisfied: pandas in c:\\programdata\\anaconda3\\lib\\site-packages (1.0.5)\n",
      "Requirement already satisfied: python-dateutil>=2.6.1 in c:\\programdata\\anaconda3\\lib\\site-packages (from pandas) (2.8.1)\n",
      "Requirement already satisfied: pytz>=2017.2 in c:\\programdata\\anaconda3\\lib\\site-packages (from pandas) (2020.1)\n",
      "Requirement already satisfied: numpy>=1.13.3 in c:\\programdata\\anaconda3\\lib\\site-packages (from pandas) (1.18.5)\n",
      "Requirement already satisfied: six>=1.5 in c:\\programdata\\anaconda3\\lib\\site-packages (from python-dateutil>=2.6.1->pandas) (1.15.0)\n",
      "Requirement already satisfied: seaborn in c:\\programdata\\anaconda3\\lib\\site-packages (0.10.1)\n",
      "Requirement already satisfied: scipy>=1.0.1 in c:\\programdata\\anaconda3\\lib\\site-packages (from seaborn) (1.5.0)\n",
      "Requirement already satisfied: pandas>=0.22.0 in c:\\programdata\\anaconda3\\lib\\site-packages (from seaborn) (1.0.5)\n",
      "Requirement already satisfied: numpy>=1.13.3 in c:\\programdata\\anaconda3\\lib\\site-packages (from seaborn) (1.18.5)\n",
      "Requirement already satisfied: matplotlib>=2.1.2 in c:\\programdata\\anaconda3\\lib\\site-packages (from seaborn) (3.2.2)\n",
      "Requirement already satisfied: python-dateutil>=2.6.1 in c:\\programdata\\anaconda3\\lib\\site-packages (from pandas>=0.22.0->seaborn) (2.8.1)\n",
      "Requirement already satisfied: pytz>=2017.2 in c:\\programdata\\anaconda3\\lib\\site-packages (from pandas>=0.22.0->seaborn) (2020.1)\n",
      "Requirement already satisfied: pyparsing!=2.0.4,!=2.1.2,!=2.1.6,>=2.0.1 in c:\\programdata\\anaconda3\\lib\\site-packages (from matplotlib>=2.1.2->seaborn) (2.4.7)\n",
      "Requirement already satisfied: cycler>=0.10 in c:\\programdata\\anaconda3\\lib\\site-packages (from matplotlib>=2.1.2->seaborn) (0.10.0)\n",
      "Requirement already satisfied: kiwisolver>=1.0.1 in c:\\programdata\\anaconda3\\lib\\site-packages (from matplotlib>=2.1.2->seaborn) (1.2.0)\n",
      "Requirement already satisfied: six>=1.5 in c:\\programdata\\anaconda3\\lib\\site-packages (from python-dateutil>=2.6.1->pandas>=0.22.0->seaborn) (1.15.0)\n",
      "Requirement already satisfied: sklearn in c:\\programdata\\anaconda3\\lib\\site-packages (0.0)\n",
      "Requirement already satisfied: scikit-learn in c:\\programdata\\anaconda3\\lib\\site-packages (from sklearn) (0.23.1)\n",
      "Requirement already satisfied: threadpoolctl>=2.0.0 in c:\\programdata\\anaconda3\\lib\\site-packages (from scikit-learn->sklearn) (2.1.0)\n",
      "Requirement already satisfied: scipy>=0.19.1 in c:\\programdata\\anaconda3\\lib\\site-packages (from scikit-learn->sklearn) (1.5.0)\n",
      "Requirement already satisfied: joblib>=0.11 in c:\\users\\hem\\appdata\\roaming\\python\\python38\\site-packages (from scikit-learn->sklearn) (1.1.0)\n",
      "Requirement already satisfied: numpy>=1.13.3 in c:\\programdata\\anaconda3\\lib\\site-packages (from scikit-learn->sklearn) (1.18.5)\n",
      "Requirement already satisfied: googledrivedownloader in c:\\programdata\\anaconda3\\lib\\site-packages (0.4)\n",
      "Requirement already satisfied: plotly in c:\\programdata\\anaconda3\\lib\\site-packages (5.8.0)\n",
      "Requirement already satisfied: tenacity>=6.2.0 in c:\\programdata\\anaconda3\\lib\\site-packages (from plotly) (8.0.1)\n"
     ]
    },
    {
     "name": "stderr",
     "output_type": "stream",
     "text": [
      "ERROR: Invalid requirement: 'pandas_profiling=3.2.0'\n",
      "Hint: = is not a valid operator. Did you mean == ?\n"
     ]
    },
    {
     "name": "stdout",
     "output_type": "stream",
     "text": [
      "Collecting MarkupSafe==2.1.1\n",
      "  Using cached MarkupSafe-2.1.1-cp38-cp38-win_amd64.whl (17 kB)\n",
      "Installing collected packages: MarkupSafe\n",
      "  Attempting uninstall: MarkupSafe\n",
      "    Found existing installation: MarkupSafe 2.0.1\n",
      "    Uninstalling MarkupSafe-2.0.1:\n",
      "      Successfully uninstalled MarkupSafe-2.0.1\n",
      "Successfully installed MarkupSafe-2.1.1\n"
     ]
    }
   ],
   "source": [
    "!pip install numpy\n",
    "!pip install pandas\n",
    "!pip install seaborn\n",
    "!pip install sklearn\n",
    "!pip install googledrivedownloader\n",
    "!pip install plotly\n",
    "!pip install pandas_profiling=3.2.0  --user\n",
    "!pip install MarkupSafe==2.1.1 --user"
   ]
  },
  {
   "cell_type": "code",
   "execution_count": 3,
   "metadata": {
    "ExecuteTime": {
     "end_time": "2022-05-23T18:15:15.847019Z",
     "start_time": "2022-05-23T18:15:14.353020Z"
    }
   },
   "outputs": [],
   "source": [
    "#IMPORT THE NECESSARY LIBRARIES\n",
    "import pandas as pd\n",
    "import numpy as np\n",
    "import matplotlib.pyplot as plt\n",
    "import plotly.graph_objs as go\n",
    "import plotly.offline as py\n",
    "import seaborn as sns\n",
    "\n",
    "import matplotlib.ticker as mtick\n",
    "plt.style.use('fivethirtyeight')\n",
    "from sklearn.linear_model import LogisticRegression\n",
    "from sklearn.linear_model import LinearRegression\n",
    "from sklearn.ensemble import  ExtraTreesRegressor\n",
    "from sklearn.model_selection import train_test_split\n",
    "\n",
    "import warnings\n",
    "warnings.filterwarnings('ignore')\n",
    "%matplotlib inline"
   ]
  },
  {
   "cell_type": "code",
   "execution_count": 4,
   "metadata": {
    "ExecuteTime": {
     "end_time": "2022-05-23T18:15:15.863020Z",
     "start_time": "2022-05-23T18:15:15.848022Z"
    }
   },
   "outputs": [],
   "source": [
    "#!ls /content/"
   ]
  },
  {
   "cell_type": "code",
   "execution_count": 5,
   "metadata": {},
   "outputs": [],
   "source": [
    "#  Importing the Data"
   ]
  },
  {
   "cell_type": "markdown",
   "metadata": {
    "ExecuteTime": {
     "end_time": "2022-05-23T17:15:10.750650Z",
     "start_time": "2022-05-23T17:15:10.723759Z"
    }
   },
   "source": [
    "The dataset is saved in a `base_merged_2.csv` file. We will use `pandas` to take a look at some of the rows."
   ]
  },
  {
   "cell_type": "code",
   "execution_count": 6,
   "metadata": {
    "ExecuteTime": {
     "end_time": "2022-05-23T18:15:15.942021Z",
     "start_time": "2022-05-23T18:15:15.864020Z"
    }
   },
   "outputs": [],
   "source": [
    "from google_drive_downloader import GoogleDriveDownloader as gdd\n",
    "file_name = './base_merged_2.csv'\n",
    "gdd.download_file_from_google_drive(file_id='1rYw4OQ-uK3YJohQmekV-Drio2wlEHA9N',\n",
    "                                    dest_path=file_name,\n",
    "                                    unzip=False)"
   ]
  },
  {
   "cell_type": "code",
   "execution_count": 7,
   "metadata": {
    "ExecuteTime": {
     "end_time": "2022-05-23T18:15:15.957020Z",
     "start_time": "2022-05-23T18:15:15.943020Z"
    }
   },
   "outputs": [],
   "source": [
    "data = pd.read_csv(file_name)\n",
    "# data = pd.read_csv('base_merged.csv', sep='|', encoding='latin-1')"
   ]
  },
  {
   "cell_type": "code",
   "execution_count": 8,
   "metadata": {
    "ExecuteTime": {
     "end_time": "2022-05-23T18:15:15.989021Z",
     "start_time": "2022-05-23T18:15:15.958020Z"
    }
   },
   "outputs": [
    {
     "data": {
      "text/html": [
       "<div>\n",
       "<style scoped>\n",
       "    .dataframe tbody tr th:only-of-type {\n",
       "        vertical-align: middle;\n",
       "    }\n",
       "\n",
       "    .dataframe tbody tr th {\n",
       "        vertical-align: top;\n",
       "    }\n",
       "\n",
       "    .dataframe thead th {\n",
       "        text-align: right;\n",
       "    }\n",
       "</style>\n",
       "<table border=\"1\" class=\"dataframe\">\n",
       "  <thead>\n",
       "    <tr style=\"text-align: right;\">\n",
       "      <th></th>\n",
       "      <th>id</th>\n",
       "      <th>Name</th>\n",
       "      <th>Cuisine</th>\n",
       "      <th>Ratings</th>\n",
       "      <th>Reviews</th>\n",
       "      <th>Price_Rng</th>\n",
       "      <th>Zip-Code</th>\n",
       "      <th>State</th>\n",
       "      <th>City</th>\n",
       "      <th>NumberReturns</th>\n",
       "      <th>AdjustedGross Income</th>\n",
       "      <th>IncomeperReturn</th>\n",
       "      <th>SalaryperReturn</th>\n",
       "      <th>TaxPaidperReturn</th>\n",
       "      <th>MTW Status</th>\n",
       "    </tr>\n",
       "  </thead>\n",
       "  <tbody>\n",
       "    <tr>\n",
       "      <th>0</th>\n",
       "      <td>106</td>\n",
       "      <td>The White Bull</td>\n",
       "      <td>American (New)</td>\n",
       "      <td>4.5</td>\n",
       "      <td>304</td>\n",
       "      <td>2</td>\n",
       "      <td>30030</td>\n",
       "      <td>GEORGIA</td>\n",
       "      <td>Decatur</td>\n",
       "      <td>12,299</td>\n",
       "      <td>530,683</td>\n",
       "      <td>$43,148</td>\n",
       "      <td>$37,815</td>\n",
       "      <td>$7,733</td>\n",
       "      <td>Matching</td>\n",
       "    </tr>\n",
       "    <tr>\n",
       "      <th>1</th>\n",
       "      <td>652</td>\n",
       "      <td>Farmed Kitchen and Bar</td>\n",
       "      <td>American (New)</td>\n",
       "      <td>5.0</td>\n",
       "      <td>53</td>\n",
       "      <td>2</td>\n",
       "      <td>30084</td>\n",
       "      <td>GEORGIA</td>\n",
       "      <td>Tucker</td>\n",
       "      <td>15,589</td>\n",
       "      <td>677,729</td>\n",
       "      <td>$43,475</td>\n",
       "      <td>$37,451</td>\n",
       "      <td>$7,290</td>\n",
       "      <td>Matching</td>\n",
       "    </tr>\n",
       "    <tr>\n",
       "      <th>2</th>\n",
       "      <td>605</td>\n",
       "      <td>Kenley's</td>\n",
       "      <td>American (New)</td>\n",
       "      <td>4.5</td>\n",
       "      <td>35</td>\n",
       "      <td>1</td>\n",
       "      <td>30303</td>\n",
       "      <td>GEORGIA</td>\n",
       "      <td>Atlanta</td>\n",
       "      <td>1,746</td>\n",
       "      <td>80,603</td>\n",
       "      <td>$46,164</td>\n",
       "      <td>$42,587</td>\n",
       "      <td>$33,834</td>\n",
       "      <td>Matching</td>\n",
       "    </tr>\n",
       "    <tr>\n",
       "      <th>3</th>\n",
       "      <td>673</td>\n",
       "      <td>Boone's</td>\n",
       "      <td>American (New)</td>\n",
       "      <td>4.0</td>\n",
       "      <td>29</td>\n",
       "      <td>2</td>\n",
       "      <td>30305</td>\n",
       "      <td>GEORGIA</td>\n",
       "      <td>Atlanta</td>\n",
       "      <td>14,265</td>\n",
       "      <td>1,992,461</td>\n",
       "      <td>$139,675</td>\n",
       "      <td>$103,339</td>\n",
       "      <td>$42,238</td>\n",
       "      <td>Matching</td>\n",
       "    </tr>\n",
       "    <tr>\n",
       "      <th>4</th>\n",
       "      <td>346</td>\n",
       "      <td>Establishment</td>\n",
       "      <td>American (New)</td>\n",
       "      <td>3.5</td>\n",
       "      <td>233</td>\n",
       "      <td>2</td>\n",
       "      <td>30305</td>\n",
       "      <td>GEORGIA</td>\n",
       "      <td>Atlanta</td>\n",
       "      <td>14,265</td>\n",
       "      <td>1,992,461</td>\n",
       "      <td>$139,675</td>\n",
       "      <td>$103,339</td>\n",
       "      <td>$42,238</td>\n",
       "      <td>Matching</td>\n",
       "    </tr>\n",
       "    <tr>\n",
       "      <th>...</th>\n",
       "      <td>...</td>\n",
       "      <td>...</td>\n",
       "      <td>...</td>\n",
       "      <td>...</td>\n",
       "      <td>...</td>\n",
       "      <td>...</td>\n",
       "      <td>...</td>\n",
       "      <td>...</td>\n",
       "      <td>...</td>\n",
       "      <td>...</td>\n",
       "      <td>...</td>\n",
       "      <td>...</td>\n",
       "      <td>...</td>\n",
       "      <td>...</td>\n",
       "      <td>...</td>\n",
       "    </tr>\n",
       "    <tr>\n",
       "      <th>399</th>\n",
       "      <td>35</td>\n",
       "      <td>Lady Ha</td>\n",
       "      <td>Vietnamese</td>\n",
       "      <td>4.5</td>\n",
       "      <td>40</td>\n",
       "      <td>2</td>\n",
       "      <td>30308</td>\n",
       "      <td>GEORGIA</td>\n",
       "      <td>Atlanta</td>\n",
       "      <td>5,950</td>\n",
       "      <td>308,468</td>\n",
       "      <td>$51,843</td>\n",
       "      <td>$34,477</td>\n",
       "      <td>$10,750</td>\n",
       "      <td>Matching</td>\n",
       "    </tr>\n",
       "    <tr>\n",
       "      <th>400</th>\n",
       "      <td>88</td>\n",
       "      <td>Bun Mi Vietnamese Grill</td>\n",
       "      <td>Vietnamese</td>\n",
       "      <td>4.5</td>\n",
       "      <td>159</td>\n",
       "      <td>2</td>\n",
       "      <td>30309</td>\n",
       "      <td>GEORGIA</td>\n",
       "      <td>Atlanta</td>\n",
       "      <td>10,405</td>\n",
       "      <td>932,807</td>\n",
       "      <td>$89,650</td>\n",
       "      <td>$58,739</td>\n",
       "      <td>$21,141</td>\n",
       "      <td>Matching</td>\n",
       "    </tr>\n",
       "    <tr>\n",
       "      <th>401</th>\n",
       "      <td>718</td>\n",
       "      <td>Pho King</td>\n",
       "      <td>Vietnamese</td>\n",
       "      <td>3.5</td>\n",
       "      <td>258</td>\n",
       "      <td>2</td>\n",
       "      <td>30309</td>\n",
       "      <td>GEORGIA</td>\n",
       "      <td>Atlanta</td>\n",
       "      <td>10,405</td>\n",
       "      <td>932,807</td>\n",
       "      <td>$89,650</td>\n",
       "      <td>$58,739</td>\n",
       "      <td>$21,141</td>\n",
       "      <td>Matching</td>\n",
       "    </tr>\n",
       "    <tr>\n",
       "      <th>402</th>\n",
       "      <td>619</td>\n",
       "      <td>Lee's Bakery</td>\n",
       "      <td>Vietnamese</td>\n",
       "      <td>4.0</td>\n",
       "      <td>1008</td>\n",
       "      <td>1</td>\n",
       "      <td>30345</td>\n",
       "      <td>GEORGIA</td>\n",
       "      <td>Atlanta</td>\n",
       "      <td>9,719</td>\n",
       "      <td>617,379</td>\n",
       "      <td>$63,523</td>\n",
       "      <td>$49,935</td>\n",
       "      <td>$13,362</td>\n",
       "      <td>Matching</td>\n",
       "    </tr>\n",
       "    <tr>\n",
       "      <th>403</th>\n",
       "      <td>585</td>\n",
       "      <td>Pho Dai Loi 2</td>\n",
       "      <td>Vietnamese</td>\n",
       "      <td>4.0</td>\n",
       "      <td>1068</td>\n",
       "      <td>2</td>\n",
       "      <td>30345</td>\n",
       "      <td>GEORGIA</td>\n",
       "      <td>Atlanta</td>\n",
       "      <td>9,719</td>\n",
       "      <td>617,379</td>\n",
       "      <td>$63,523</td>\n",
       "      <td>$49,935</td>\n",
       "      <td>$13,362</td>\n",
       "      <td>Matching</td>\n",
       "    </tr>\n",
       "  </tbody>\n",
       "</table>\n",
       "<p>404 rows × 15 columns</p>\n",
       "</div>"
      ],
      "text/plain": [
       "      id                     Name         Cuisine  Ratings  Reviews  \\\n",
       "0    106           The White Bull  American (New)      4.5      304   \n",
       "1    652   Farmed Kitchen and Bar  American (New)      5.0       53   \n",
       "2    605                 Kenley's  American (New)      4.5       35   \n",
       "3    673                  Boone's  American (New)      4.0       29   \n",
       "4    346            Establishment  American (New)      3.5      233   \n",
       "..   ...                      ...             ...      ...      ...   \n",
       "399   35                  Lady Ha      Vietnamese      4.5       40   \n",
       "400   88  Bun Mi Vietnamese Grill      Vietnamese      4.5      159   \n",
       "401  718                 Pho King      Vietnamese      3.5      258   \n",
       "402  619             Lee's Bakery      Vietnamese      4.0     1008   \n",
       "403  585            Pho Dai Loi 2      Vietnamese      4.0     1068   \n",
       "\n",
       "     Price_Rng  Zip-Code    State     City NumberReturns AdjustedGross Income  \\\n",
       "0            2     30030  GEORGIA  Decatur        12,299              530,683   \n",
       "1            2     30084  GEORGIA   Tucker        15,589              677,729   \n",
       "2            1     30303  GEORGIA  Atlanta         1,746               80,603   \n",
       "3            2     30305  GEORGIA  Atlanta        14,265            1,992,461   \n",
       "4            2     30305  GEORGIA  Atlanta        14,265            1,992,461   \n",
       "..         ...       ...      ...      ...           ...                  ...   \n",
       "399          2     30308  GEORGIA  Atlanta         5,950              308,468   \n",
       "400          2     30309  GEORGIA  Atlanta        10,405              932,807   \n",
       "401          2     30309  GEORGIA  Atlanta        10,405              932,807   \n",
       "402          1     30345  GEORGIA  Atlanta         9,719              617,379   \n",
       "403          2     30345  GEORGIA  Atlanta         9,719              617,379   \n",
       "\n",
       "    IncomeperReturn SalaryperReturn TaxPaidperReturn MTW Status  \n",
       "0          $43,148         $37,815           $7,733    Matching  \n",
       "1          $43,475         $37,451           $7,290    Matching  \n",
       "2          $46,164         $42,587          $33,834    Matching  \n",
       "3         $139,675        $103,339          $42,238    Matching  \n",
       "4         $139,675        $103,339          $42,238    Matching  \n",
       "..              ...             ...              ...        ...  \n",
       "399        $51,843         $34,477          $10,750    Matching  \n",
       "400        $89,650         $58,739          $21,141    Matching  \n",
       "401        $89,650         $58,739          $21,141    Matching  \n",
       "402        $63,523         $49,935          $13,362    Matching  \n",
       "403        $63,523         $49,935          $13,362    Matching  \n",
       "\n",
       "[404 rows x 15 columns]"
      ]
     },
     "execution_count": 8,
     "metadata": {},
     "output_type": "execute_result"
    }
   ],
   "source": [
    "data"
   ]
  },
  {
   "cell_type": "code",
   "execution_count": 9,
   "metadata": {
    "ExecuteTime": {
     "end_time": "2022-05-23T18:15:16.005020Z",
     "start_time": "2022-05-23T18:15:15.990020Z"
    }
   },
   "outputs": [
    {
     "data": {
      "text/plain": [
       "id                        int64\n",
       "Name                     object\n",
       "Cuisine                  object\n",
       "Ratings                 float64\n",
       "Reviews                   int64\n",
       "Price_Rng                 int64\n",
       "Zip-Code                  int64\n",
       "State                    object\n",
       "City                     object\n",
       "NumberReturns            object\n",
       "AdjustedGross Income     object\n",
       "IncomeperReturn          object\n",
       "SalaryperReturn          object\n",
       "TaxPaidperReturn         object\n",
       "MTW Status               object\n",
       "dtype: object"
      ]
     },
     "execution_count": 9,
     "metadata": {},
     "output_type": "execute_result"
    }
   ],
   "source": [
    "data.dtypes #checking the data types"
   ]
  },
  {
   "cell_type": "code",
   "execution_count": 10,
   "metadata": {
    "ExecuteTime": {
     "end_time": "2022-05-23T18:15:16.021020Z",
     "start_time": "2022-05-23T18:15:16.006021Z"
    }
   },
   "outputs": [
    {
     "data": {
      "text/plain": [
       "id                      0\n",
       "Name                    0\n",
       "Cuisine                 0\n",
       "Ratings                 0\n",
       "Reviews                 0\n",
       "Price_Rng               0\n",
       "Zip-Code                0\n",
       "State                   0\n",
       "City                    0\n",
       "NumberReturns           0\n",
       "AdjustedGross Income    0\n",
       "IncomeperReturn         0\n",
       "SalaryperReturn         0\n",
       "TaxPaidperReturn        0\n",
       "MTW Status              0\n",
       "dtype: int64"
      ]
     },
     "execution_count": 10,
     "metadata": {},
     "output_type": "execute_result"
    }
   ],
   "source": [
    "data.isna().sum() "
   ]
  },
  {
   "cell_type": "code",
   "execution_count": 11,
   "metadata": {
    "ExecuteTime": {
     "end_time": "2022-05-23T18:15:16.037020Z",
     "start_time": "2022-05-23T18:15:16.022022Z"
    }
   },
   "outputs": [],
   "source": [
    "#Deleting Unnnecessary Columns\n",
    "df=data.drop(['MTW Status','TaxPaidperReturn','TaxPaidperReturn','IncomeperReturn'],axis=1) #Dropping the column like \"phone\" and \"url\" and saving the new dataset as \"df\""
   ]
  },
  {
   "cell_type": "code",
   "execution_count": 12,
   "metadata": {
    "ExecuteTime": {
     "end_time": "2022-05-23T18:15:24.901020Z",
     "start_time": "2022-05-23T18:15:16.038021Z"
    },
    "scrolled": true
   },
   "outputs": [
    {
     "ename": "ImportError",
     "evalue": "cannot import name 'soft_unicode' from 'markupsafe' (C:\\Users\\hem\\AppData\\Roaming\\Python\\Python38\\site-packages\\markupsafe\\__init__.py)",
     "output_type": "error",
     "traceback": [
      "\u001b[1;31m---------------------------------------------------------------------------\u001b[0m",
      "\u001b[1;31mImportError\u001b[0m                               Traceback (most recent call last)",
      "\u001b[1;32m<ipython-input-12-d80f7e6a5267>\u001b[0m in \u001b[0;36m<module>\u001b[1;34m\u001b[0m\n\u001b[0;32m      1\u001b[0m \u001b[1;31m# pandas profiling to get an over all overview of the dataset\u001b[0m\u001b[1;33m\u001b[0m\u001b[1;33m\u001b[0m\u001b[1;33m\u001b[0m\u001b[0m\n\u001b[1;32m----> 2\u001b[1;33m \u001b[1;32mimport\u001b[0m \u001b[0mpandas_profiling\u001b[0m \u001b[1;32mas\u001b[0m \u001b[0mpf\u001b[0m\u001b[1;33m\u001b[0m\u001b[1;33m\u001b[0m\u001b[0m\n\u001b[0m\u001b[0;32m      3\u001b[0m \u001b[1;33m\u001b[0m\u001b[0m\n\u001b[0;32m      4\u001b[0m \u001b[0mpf\u001b[0m\u001b[1;33m.\u001b[0m\u001b[0mProfileReport\u001b[0m\u001b[1;33m(\u001b[0m\u001b[0mdf\u001b[0m\u001b[1;33m)\u001b[0m\u001b[1;33m\u001b[0m\u001b[1;33m\u001b[0m\u001b[0m\n",
      "\u001b[1;32m~\\AppData\\Roaming\\Python\\Python38\\site-packages\\pandas_profiling\\__init__.py\u001b[0m in \u001b[0;36m<module>\u001b[1;34m\u001b[0m\n\u001b[0;32m      4\u001b[0m \"\"\"\n\u001b[0;32m      5\u001b[0m \u001b[1;33m\u001b[0m\u001b[0m\n\u001b[1;32m----> 6\u001b[1;33m \u001b[1;32mfrom\u001b[0m \u001b[0mpandas_profiling\u001b[0m\u001b[1;33m.\u001b[0m\u001b[0mcontroller\u001b[0m \u001b[1;32mimport\u001b[0m \u001b[0mpandas_decorator\u001b[0m\u001b[1;33m\u001b[0m\u001b[1;33m\u001b[0m\u001b[0m\n\u001b[0m\u001b[0;32m      7\u001b[0m \u001b[1;32mfrom\u001b[0m \u001b[0mpandas_profiling\u001b[0m\u001b[1;33m.\u001b[0m\u001b[0mprofile_report\u001b[0m \u001b[1;32mimport\u001b[0m \u001b[0mProfileReport\u001b[0m\u001b[1;33m\u001b[0m\u001b[1;33m\u001b[0m\u001b[0m\n\u001b[0;32m      8\u001b[0m \u001b[1;32mfrom\u001b[0m \u001b[0mpandas_profiling\u001b[0m\u001b[1;33m.\u001b[0m\u001b[0mversion\u001b[0m \u001b[1;32mimport\u001b[0m \u001b[0m__version__\u001b[0m\u001b[1;33m\u001b[0m\u001b[1;33m\u001b[0m\u001b[0m\n",
      "\u001b[1;32m~\\AppData\\Roaming\\Python\\Python38\\site-packages\\pandas_profiling\\controller\\pandas_decorator.py\u001b[0m in \u001b[0;36m<module>\u001b[1;34m\u001b[0m\n\u001b[0;32m      2\u001b[0m \u001b[1;32mfrom\u001b[0m \u001b[0mpandas\u001b[0m \u001b[1;32mimport\u001b[0m \u001b[0mDataFrame\u001b[0m\u001b[1;33m\u001b[0m\u001b[1;33m\u001b[0m\u001b[0m\n\u001b[0;32m      3\u001b[0m \u001b[1;33m\u001b[0m\u001b[0m\n\u001b[1;32m----> 4\u001b[1;33m \u001b[1;32mfrom\u001b[0m \u001b[0mpandas_profiling\u001b[0m\u001b[1;33m.\u001b[0m\u001b[0mprofile_report\u001b[0m \u001b[1;32mimport\u001b[0m \u001b[0mProfileReport\u001b[0m\u001b[1;33m\u001b[0m\u001b[1;33m\u001b[0m\u001b[0m\n\u001b[0m\u001b[0;32m      5\u001b[0m \u001b[1;33m\u001b[0m\u001b[0m\n\u001b[0;32m      6\u001b[0m \u001b[1;33m\u001b[0m\u001b[0m\n",
      "\u001b[1;32m~\\AppData\\Roaming\\Python\\Python38\\site-packages\\pandas_profiling\\profile_report.py\u001b[0m in \u001b[0;36m<module>\u001b[1;34m\u001b[0m\n\u001b[0;32m     25\u001b[0m \u001b[1;32mfrom\u001b[0m \u001b[0mpandas_profiling\u001b[0m\u001b[1;33m.\u001b[0m\u001b[0mreport\u001b[0m\u001b[1;33m.\u001b[0m\u001b[0mpresentation\u001b[0m\u001b[1;33m.\u001b[0m\u001b[0mcore\u001b[0m \u001b[1;32mimport\u001b[0m \u001b[0mRoot\u001b[0m\u001b[1;33m\u001b[0m\u001b[1;33m\u001b[0m\u001b[0m\n\u001b[0;32m     26\u001b[0m \u001b[1;32mfrom\u001b[0m \u001b[0mpandas_profiling\u001b[0m\u001b[1;33m.\u001b[0m\u001b[0mreport\u001b[0m\u001b[1;33m.\u001b[0m\u001b[0mpresentation\u001b[0m\u001b[1;33m.\u001b[0m\u001b[0mcore\u001b[0m\u001b[1;33m.\u001b[0m\u001b[0mrenderable\u001b[0m \u001b[1;32mimport\u001b[0m \u001b[0mRenderable\u001b[0m\u001b[1;33m\u001b[0m\u001b[1;33m\u001b[0m\u001b[0m\n\u001b[1;32m---> 27\u001b[1;33m from pandas_profiling.report.presentation.flavours.html.templates import (\n\u001b[0m\u001b[0;32m     28\u001b[0m     \u001b[0mcreate_html_assets\u001b[0m\u001b[1;33m,\u001b[0m\u001b[1;33m\u001b[0m\u001b[1;33m\u001b[0m\u001b[0m\n\u001b[0;32m     29\u001b[0m )\n",
      "\u001b[1;32m~\\AppData\\Roaming\\Python\\Python38\\site-packages\\pandas_profiling\\report\\presentation\\flavours\\html\\__init__.py\u001b[0m in \u001b[0;36m<module>\u001b[1;34m\u001b[0m\n\u001b[1;32m----> 1\u001b[1;33m \u001b[1;32mfrom\u001b[0m \u001b[0mpandas_profiling\u001b[0m\u001b[1;33m.\u001b[0m\u001b[0mreport\u001b[0m\u001b[1;33m.\u001b[0m\u001b[0mpresentation\u001b[0m\u001b[1;33m.\u001b[0m\u001b[0mflavours\u001b[0m\u001b[1;33m.\u001b[0m\u001b[0mhtml\u001b[0m\u001b[1;33m.\u001b[0m\u001b[0malerts\u001b[0m \u001b[1;32mimport\u001b[0m \u001b[0mHTMLAlerts\u001b[0m\u001b[1;33m\u001b[0m\u001b[1;33m\u001b[0m\u001b[0m\n\u001b[0m\u001b[0;32m      2\u001b[0m \u001b[1;32mfrom\u001b[0m \u001b[0mpandas_profiling\u001b[0m\u001b[1;33m.\u001b[0m\u001b[0mreport\u001b[0m\u001b[1;33m.\u001b[0m\u001b[0mpresentation\u001b[0m\u001b[1;33m.\u001b[0m\u001b[0mflavours\u001b[0m\u001b[1;33m.\u001b[0m\u001b[0mhtml\u001b[0m\u001b[1;33m.\u001b[0m\u001b[0mcollapse\u001b[0m \u001b[1;32mimport\u001b[0m \u001b[0mHTMLCollapse\u001b[0m\u001b[1;33m\u001b[0m\u001b[1;33m\u001b[0m\u001b[0m\n\u001b[0;32m      3\u001b[0m \u001b[1;32mfrom\u001b[0m \u001b[0mpandas_profiling\u001b[0m\u001b[1;33m.\u001b[0m\u001b[0mreport\u001b[0m\u001b[1;33m.\u001b[0m\u001b[0mpresentation\u001b[0m\u001b[1;33m.\u001b[0m\u001b[0mflavours\u001b[0m\u001b[1;33m.\u001b[0m\u001b[0mhtml\u001b[0m\u001b[1;33m.\u001b[0m\u001b[0mcontainer\u001b[0m \u001b[1;32mimport\u001b[0m \u001b[0mHTMLContainer\u001b[0m\u001b[1;33m\u001b[0m\u001b[1;33m\u001b[0m\u001b[0m\n\u001b[0;32m      4\u001b[0m \u001b[1;32mfrom\u001b[0m \u001b[0mpandas_profiling\u001b[0m\u001b[1;33m.\u001b[0m\u001b[0mreport\u001b[0m\u001b[1;33m.\u001b[0m\u001b[0mpresentation\u001b[0m\u001b[1;33m.\u001b[0m\u001b[0mflavours\u001b[0m\u001b[1;33m.\u001b[0m\u001b[0mhtml\u001b[0m\u001b[1;33m.\u001b[0m\u001b[0mduplicate\u001b[0m \u001b[1;32mimport\u001b[0m \u001b[0mHTMLDuplicate\u001b[0m\u001b[1;33m\u001b[0m\u001b[1;33m\u001b[0m\u001b[0m\n\u001b[0;32m      5\u001b[0m from pandas_profiling.report.presentation.flavours.html.frequency_table import (\n",
      "\u001b[1;32m~\\AppData\\Roaming\\Python\\Python38\\site-packages\\pandas_profiling\\report\\presentation\\flavours\\html\\alerts.py\u001b[0m in \u001b[0;36m<module>\u001b[1;34m\u001b[0m\n\u001b[0;32m      1\u001b[0m \u001b[1;32mfrom\u001b[0m \u001b[0mpandas_profiling\u001b[0m\u001b[1;33m.\u001b[0m\u001b[0mreport\u001b[0m\u001b[1;33m.\u001b[0m\u001b[0mpresentation\u001b[0m\u001b[1;33m.\u001b[0m\u001b[0mcore\u001b[0m\u001b[1;33m.\u001b[0m\u001b[0malerts\u001b[0m \u001b[1;32mimport\u001b[0m \u001b[0mAlerts\u001b[0m\u001b[1;33m\u001b[0m\u001b[1;33m\u001b[0m\u001b[0m\n\u001b[1;32m----> 2\u001b[1;33m \u001b[1;32mfrom\u001b[0m \u001b[0mpandas_profiling\u001b[0m\u001b[1;33m.\u001b[0m\u001b[0mreport\u001b[0m\u001b[1;33m.\u001b[0m\u001b[0mpresentation\u001b[0m\u001b[1;33m.\u001b[0m\u001b[0mflavours\u001b[0m\u001b[1;33m.\u001b[0m\u001b[0mhtml\u001b[0m \u001b[1;32mimport\u001b[0m \u001b[0mtemplates\u001b[0m\u001b[1;33m\u001b[0m\u001b[1;33m\u001b[0m\u001b[0m\n\u001b[0m\u001b[0;32m      3\u001b[0m \u001b[1;33m\u001b[0m\u001b[0m\n\u001b[0;32m      4\u001b[0m \u001b[1;33m\u001b[0m\u001b[0m\n\u001b[0;32m      5\u001b[0m \u001b[1;32mclass\u001b[0m \u001b[0mHTMLAlerts\u001b[0m\u001b[1;33m(\u001b[0m\u001b[0mAlerts\u001b[0m\u001b[1;33m)\u001b[0m\u001b[1;33m:\u001b[0m\u001b[1;33m\u001b[0m\u001b[1;33m\u001b[0m\u001b[0m\n",
      "\u001b[1;32m~\\AppData\\Roaming\\Python\\Python38\\site-packages\\pandas_profiling\\report\\presentation\\flavours\\html\\templates.py\u001b[0m in \u001b[0;36m<module>\u001b[1;34m\u001b[0m\n\u001b[0;32m      3\u001b[0m \u001b[1;32mfrom\u001b[0m \u001b[0mpathlib\u001b[0m \u001b[1;32mimport\u001b[0m \u001b[0mPath\u001b[0m\u001b[1;33m\u001b[0m\u001b[1;33m\u001b[0m\u001b[0m\n\u001b[0;32m      4\u001b[0m \u001b[1;33m\u001b[0m\u001b[0m\n\u001b[1;32m----> 5\u001b[1;33m \u001b[1;32mimport\u001b[0m \u001b[0mjinja2\u001b[0m\u001b[1;33m\u001b[0m\u001b[1;33m\u001b[0m\u001b[0m\n\u001b[0m\u001b[0;32m      6\u001b[0m \u001b[1;33m\u001b[0m\u001b[0m\n\u001b[0;32m      7\u001b[0m \u001b[1;32mfrom\u001b[0m \u001b[0mpandas_profiling\u001b[0m\u001b[1;33m.\u001b[0m\u001b[0mconfig\u001b[0m \u001b[1;32mimport\u001b[0m \u001b[0mSettings\u001b[0m\u001b[1;33m,\u001b[0m \u001b[0mTheme\u001b[0m\u001b[1;33m\u001b[0m\u001b[1;33m\u001b[0m\u001b[0m\n",
      "\u001b[1;32mC:\\ProgramData\\Anaconda3\\lib\\site-packages\\jinja2\\__init__.py\u001b[0m in \u001b[0;36m<module>\u001b[1;34m\u001b[0m\n\u001b[0;32m     10\u001b[0m \u001b[1;32mfrom\u001b[0m \u001b[1;33m.\u001b[0m\u001b[0mbccache\u001b[0m \u001b[1;32mimport\u001b[0m \u001b[0mFileSystemBytecodeCache\u001b[0m\u001b[1;33m\u001b[0m\u001b[1;33m\u001b[0m\u001b[0m\n\u001b[0;32m     11\u001b[0m \u001b[1;32mfrom\u001b[0m \u001b[1;33m.\u001b[0m\u001b[0mbccache\u001b[0m \u001b[1;32mimport\u001b[0m \u001b[0mMemcachedBytecodeCache\u001b[0m\u001b[1;33m\u001b[0m\u001b[1;33m\u001b[0m\u001b[0m\n\u001b[1;32m---> 12\u001b[1;33m \u001b[1;32mfrom\u001b[0m \u001b[1;33m.\u001b[0m\u001b[0menvironment\u001b[0m \u001b[1;32mimport\u001b[0m \u001b[0mEnvironment\u001b[0m\u001b[1;33m\u001b[0m\u001b[1;33m\u001b[0m\u001b[0m\n\u001b[0m\u001b[0;32m     13\u001b[0m \u001b[1;32mfrom\u001b[0m \u001b[1;33m.\u001b[0m\u001b[0menvironment\u001b[0m \u001b[1;32mimport\u001b[0m \u001b[0mTemplate\u001b[0m\u001b[1;33m\u001b[0m\u001b[1;33m\u001b[0m\u001b[0m\n\u001b[0;32m     14\u001b[0m \u001b[1;32mfrom\u001b[0m \u001b[1;33m.\u001b[0m\u001b[0mexceptions\u001b[0m \u001b[1;32mimport\u001b[0m \u001b[0mTemplateAssertionError\u001b[0m\u001b[1;33m\u001b[0m\u001b[1;33m\u001b[0m\u001b[0m\n",
      "\u001b[1;32mC:\\ProgramData\\Anaconda3\\lib\\site-packages\\jinja2\\environment.py\u001b[0m in \u001b[0;36m<module>\u001b[1;34m\u001b[0m\n\u001b[0;32m     23\u001b[0m \u001b[1;32mfrom\u001b[0m \u001b[1;33m.\u001b[0m\u001b[0mcompiler\u001b[0m \u001b[1;32mimport\u001b[0m \u001b[0mCodeGenerator\u001b[0m\u001b[1;33m\u001b[0m\u001b[1;33m\u001b[0m\u001b[0m\n\u001b[0;32m     24\u001b[0m \u001b[1;32mfrom\u001b[0m \u001b[1;33m.\u001b[0m\u001b[0mcompiler\u001b[0m \u001b[1;32mimport\u001b[0m \u001b[0mgenerate\u001b[0m\u001b[1;33m\u001b[0m\u001b[1;33m\u001b[0m\u001b[0m\n\u001b[1;32m---> 25\u001b[1;33m \u001b[1;32mfrom\u001b[0m \u001b[1;33m.\u001b[0m\u001b[0mdefaults\u001b[0m \u001b[1;32mimport\u001b[0m \u001b[0mBLOCK_END_STRING\u001b[0m\u001b[1;33m\u001b[0m\u001b[1;33m\u001b[0m\u001b[0m\n\u001b[0m\u001b[0;32m     26\u001b[0m \u001b[1;32mfrom\u001b[0m \u001b[1;33m.\u001b[0m\u001b[0mdefaults\u001b[0m \u001b[1;32mimport\u001b[0m \u001b[0mBLOCK_START_STRING\u001b[0m\u001b[1;33m\u001b[0m\u001b[1;33m\u001b[0m\u001b[0m\n\u001b[0;32m     27\u001b[0m \u001b[1;32mfrom\u001b[0m \u001b[1;33m.\u001b[0m\u001b[0mdefaults\u001b[0m \u001b[1;32mimport\u001b[0m \u001b[0mCOMMENT_END_STRING\u001b[0m\u001b[1;33m\u001b[0m\u001b[1;33m\u001b[0m\u001b[0m\n",
      "\u001b[1;32mC:\\ProgramData\\Anaconda3\\lib\\site-packages\\jinja2\\defaults.py\u001b[0m in \u001b[0;36m<module>\u001b[1;34m\u001b[0m\n\u001b[0;32m      1\u001b[0m \u001b[1;31m# -*- coding: utf-8 -*-\u001b[0m\u001b[1;33m\u001b[0m\u001b[1;33m\u001b[0m\u001b[1;33m\u001b[0m\u001b[0m\n\u001b[0;32m      2\u001b[0m \u001b[1;32mfrom\u001b[0m \u001b[1;33m.\u001b[0m\u001b[0m_compat\u001b[0m \u001b[1;32mimport\u001b[0m \u001b[0mrange_type\u001b[0m\u001b[1;33m\u001b[0m\u001b[1;33m\u001b[0m\u001b[0m\n\u001b[1;32m----> 3\u001b[1;33m \u001b[1;32mfrom\u001b[0m \u001b[1;33m.\u001b[0m\u001b[0mfilters\u001b[0m \u001b[1;32mimport\u001b[0m \u001b[0mFILTERS\u001b[0m \u001b[1;32mas\u001b[0m \u001b[0mDEFAULT_FILTERS\u001b[0m  \u001b[1;31m# noqa: F401\u001b[0m\u001b[1;33m\u001b[0m\u001b[1;33m\u001b[0m\u001b[0m\n\u001b[0m\u001b[0;32m      4\u001b[0m \u001b[1;32mfrom\u001b[0m \u001b[1;33m.\u001b[0m\u001b[0mtests\u001b[0m \u001b[1;32mimport\u001b[0m \u001b[0mTESTS\u001b[0m \u001b[1;32mas\u001b[0m \u001b[0mDEFAULT_TESTS\u001b[0m  \u001b[1;31m# noqa: F401\u001b[0m\u001b[1;33m\u001b[0m\u001b[1;33m\u001b[0m\u001b[0m\n\u001b[0;32m      5\u001b[0m \u001b[1;32mfrom\u001b[0m \u001b[1;33m.\u001b[0m\u001b[0mutils\u001b[0m \u001b[1;32mimport\u001b[0m \u001b[0mCycler\u001b[0m\u001b[1;33m\u001b[0m\u001b[1;33m\u001b[0m\u001b[0m\n",
      "\u001b[1;32mC:\\ProgramData\\Anaconda3\\lib\\site-packages\\jinja2\\filters.py\u001b[0m in \u001b[0;36m<module>\u001b[1;34m\u001b[0m\n\u001b[0;32m     11\u001b[0m \u001b[1;32mfrom\u001b[0m \u001b[0mmarkupsafe\u001b[0m \u001b[1;32mimport\u001b[0m \u001b[0mescape\u001b[0m\u001b[1;33m\u001b[0m\u001b[1;33m\u001b[0m\u001b[0m\n\u001b[0;32m     12\u001b[0m \u001b[1;32mfrom\u001b[0m \u001b[0mmarkupsafe\u001b[0m \u001b[1;32mimport\u001b[0m \u001b[0mMarkup\u001b[0m\u001b[1;33m\u001b[0m\u001b[1;33m\u001b[0m\u001b[0m\n\u001b[1;32m---> 13\u001b[1;33m \u001b[1;32mfrom\u001b[0m \u001b[0mmarkupsafe\u001b[0m \u001b[1;32mimport\u001b[0m \u001b[0msoft_unicode\u001b[0m\u001b[1;33m\u001b[0m\u001b[1;33m\u001b[0m\u001b[0m\n\u001b[0m\u001b[0;32m     14\u001b[0m \u001b[1;33m\u001b[0m\u001b[0m\n\u001b[0;32m     15\u001b[0m \u001b[1;32mfrom\u001b[0m \u001b[1;33m.\u001b[0m\u001b[0m_compat\u001b[0m \u001b[1;32mimport\u001b[0m \u001b[0mabc\u001b[0m\u001b[1;33m\u001b[0m\u001b[1;33m\u001b[0m\u001b[0m\n",
      "\u001b[1;31mImportError\u001b[0m: cannot import name 'soft_unicode' from 'markupsafe' (C:\\Users\\hem\\AppData\\Roaming\\Python\\Python38\\site-packages\\markupsafe\\__init__.py)"
     ]
    }
   ],
   "source": [
    "# pandas profiling to get an over all overview of the dataset\n",
    "import pandas_profiling as pf\n",
    "\n",
    "pf.ProfileReport(df)"
   ]
  },
  {
   "cell_type": "markdown",
   "metadata": {},
   "source": [
    "**Checking for duplicate values**"
   ]
  },
  {
   "cell_type": "code",
   "execution_count": null,
   "metadata": {
    "ExecuteTime": {
     "end_time": "2022-05-23T18:15:24.917023Z",
     "start_time": "2022-05-23T18:15:24.903020Z"
    }
   },
   "outputs": [],
   "source": [
    "df.duplicated().sum() "
   ]
  },
  {
   "cell_type": "code",
   "execution_count": null,
   "metadata": {
    "ExecuteTime": {
     "end_time": "2022-05-23T18:15:24.933022Z",
     "start_time": "2022-05-23T18:15:24.918022Z"
    }
   },
   "outputs": [],
   "source": [
    "df.drop_duplicates(inplace=True)"
   ]
  },
  {
   "cell_type": "code",
   "execution_count": null,
   "metadata": {
    "ExecuteTime": {
     "end_time": "2022-05-23T18:15:24.949020Z",
     "start_time": "2022-05-23T18:15:24.934021Z"
    }
   },
   "outputs": [],
   "source": [
    "df.duplicated().sum()"
   ]
  },
  {
   "cell_type": "markdown",
   "metadata": {
    "ExecuteTime": {
     "end_time": "2022-05-21T07:03:26.715932Z",
     "start_time": "2022-05-21T07:03:26.699933Z"
    }
   },
   "source": [
    "**Drop null values**"
   ]
  },
  {
   "cell_type": "code",
   "execution_count": null,
   "metadata": {
    "ExecuteTime": {
     "end_time": "2022-05-23T18:15:24.965019Z",
     "start_time": "2022-05-23T18:15:24.950020Z"
    }
   },
   "outputs": [],
   "source": [
    "#Remove the NaN values from the dataset\n",
    "df.dropna(how='any',inplace=True)\n",
    "df.isnull().sum()"
   ]
  },
  {
   "cell_type": "markdown",
   "metadata": {},
   "source": [
    "**Renaming columes appropriately**"
   ]
  },
  {
   "cell_type": "code",
   "execution_count": null,
   "metadata": {
    "ExecuteTime": {
     "end_time": "2022-05-23T18:15:24.981020Z",
     "start_time": "2022-05-23T18:15:24.966022Z"
    }
   },
   "outputs": [],
   "source": [
    "df.columns"
   ]
  },
  {
   "cell_type": "code",
   "execution_count": null,
   "metadata": {
    "ExecuteTime": {
     "end_time": "2022-05-23T18:15:24.997019Z",
     "start_time": "2022-05-23T18:15:24.983022Z"
    }
   },
   "outputs": [],
   "source": [
    "df = df.rename(columns={'Price_Rng':'Price_Range',\n",
    "                        'SalaryperReturn':'User_salary', \n",
    "                        'Ratings':'Review_rating' , \n",
    "                        'Reviews':'Total_reviews',\n",
    "                        'NumberReturns':'Population', \n",
    "                        'Zip-Code':'Zip_code', \n",
    "                        'AdjustedGross Income':'Gross_income'})\n",
    "df.columns"
   ]
  },
  {
   "cell_type": "code",
   "execution_count": null,
   "metadata": {
    "ExecuteTime": {
     "end_time": "2022-05-23T18:15:25.013023Z",
     "start_time": "2022-05-23T18:15:24.998021Z"
    }
   },
   "outputs": [],
   "source": [
    "df.Cuisine.unique()"
   ]
  },
  {
   "cell_type": "markdown",
   "metadata": {},
   "source": [
    "**Cleaning the dataset**"
   ]
  },
  {
   "cell_type": "code",
   "execution_count": null,
   "metadata": {
    "ExecuteTime": {
     "end_time": "2022-05-23T18:15:25.059023Z",
     "start_time": "2022-05-23T18:15:25.046023Z"
    }
   },
   "outputs": [],
   "source": [
    "df['Zip_code'].unique()"
   ]
  },
  {
   "cell_type": "code",
   "execution_count": null,
   "metadata": {
    "ExecuteTime": {
     "end_time": "2022-05-23T18:15:25.075021Z",
     "start_time": "2022-05-23T18:15:25.061023Z"
    }
   },
   "outputs": [],
   "source": [
    "df['User_salary'].unique()"
   ]
  },
  {
   "cell_type": "code",
   "execution_count": null,
   "metadata": {
    "ExecuteTime": {
     "end_time": "2022-05-23T18:15:25.091019Z",
     "start_time": "2022-05-23T18:15:25.076021Z"
    }
   },
   "outputs": [],
   "source": [
    "sorted(df['Population'].unique())"
   ]
  },
  {
   "cell_type": "markdown",
   "metadata": {},
   "source": [
    "**replacing the \",\" and \"$\" with nothing and converting the results to float**"
   ]
  },
  {
   "cell_type": "code",
   "execution_count": null,
   "metadata": {
    "ExecuteTime": {
     "end_time": "2022-05-23T18:15:25.107020Z",
     "start_time": "2022-05-23T18:15:25.092020Z"
    }
   },
   "outputs": [],
   "source": [
    "df['User_salary'] = df['User_salary'].apply(lambda x: x.replace('$','')) #Using lambda function to replace '$' from User_salary\n",
    "df['User_salary'] = df['User_salary'].apply(lambda x: x.replace(',','')) #Using lambda function to replace ',' from User_salary\n",
    "df['User_salary'] = df['User_salary'].astype(float)"
   ]
  },
  {
   "cell_type": "code",
   "execution_count": null,
   "metadata": {
    "ExecuteTime": {
     "end_time": "2022-05-23T18:15:25.123020Z",
     "start_time": "2022-05-23T18:15:25.108022Z"
    }
   },
   "outputs": [],
   "source": [
    "df['Population'] = df['Population'].apply(lambda x: x.replace(',','')) #Using lambda function to replace ',' from Population\n",
    "df['Population'] = df['Population'].astype(float)"
   ]
  },
  {
   "cell_type": "code",
   "execution_count": null,
   "metadata": {
    "ExecuteTime": {
     "end_time": "2022-05-23T18:15:25.139020Z",
     "start_time": "2022-05-23T18:15:25.124023Z"
    }
   },
   "outputs": [],
   "source": [
    "df['Gross_income'] = df['Gross_income'].apply(lambda x: x.replace(',','')) #Using lambda function to replace ',' from Gross_income\n",
    "df['Gross_income'] = df['Gross_income'].astype(float)"
   ]
  },
  {
   "cell_type": "code",
   "execution_count": null,
   "metadata": {
    "ExecuteTime": {
     "end_time": "2022-05-23T18:15:25.155021Z",
     "start_time": "2022-05-23T18:15:25.140023Z"
    }
   },
   "outputs": [],
   "source": [
    "df['Name'] = df['Name'].apply(lambda x: x.replace(\"'\",'')) #Using lambda function to replace ',' from Gross_income"
   ]
  },
  {
   "cell_type": "code",
   "execution_count": null,
   "metadata": {
    "ExecuteTime": {
     "end_time": "2022-05-23T18:15:25.170019Z",
     "start_time": "2022-05-23T18:15:25.156020Z"
    }
   },
   "outputs": [],
   "source": [
    "print(df['User_salary'].unique())\n",
    "print('---'*10)\n",
    "df.dtypes"
   ]
  },
  {
   "cell_type": "code",
   "execution_count": null,
   "metadata": {
    "ExecuteTime": {
     "end_time": "2022-05-23T18:15:25.186020Z",
     "start_time": "2022-05-23T18:15:25.171020Z"
    }
   },
   "outputs": [],
   "source": [
    "df['Review_rating'].unique()"
   ]
  },
  {
   "cell_type": "markdown",
   "metadata": {},
   "source": [
    "# Visualisations"
   ]
  },
  {
   "cell_type": "code",
   "execution_count": null,
   "metadata": {
    "ExecuteTime": {
     "end_time": "2022-05-23T18:15:25.392020Z",
     "start_time": "2022-05-23T18:15:25.188022Z"
    }
   },
   "outputs": [],
   "source": [
    "plt.figure(figsize=(17,10))\n",
    "chains=df['Name'].value_counts()[:20]\n",
    "sns.barplot(x=chains,y=chains.index,palette='deep')\n",
    "plt.title(\"Most famous restaurants\")\n",
    "plt.xlabel(\"Number of outlets\")\n",
    "plt.show()"
   ]
  },
  {
   "cell_type": "code",
   "execution_count": null,
   "metadata": {
    "ExecuteTime": {
     "end_time": "2022-05-23T18:15:25.882020Z",
     "start_time": "2022-05-23T18:15:25.393022Z"
    }
   },
   "outputs": [],
   "source": [
    "x=df['Price_Range'].value_counts()\n",
    "colors = ['#800080', '#0000A0']\n",
    "\n",
    "trace=go.Pie(labels=x.index,values=x,textinfo=\"value\",\n",
    "            marker=dict(colors=colors, \n",
    "                           line=dict(color='#001000', width=2)))\n",
    "layout=go.Layout(title=\"Price Range\",width=600,height=600)\n",
    "fig=go.Figure(data=[trace],layout=layout)\n",
    "py.iplot(fig, filename='pie_chart_subplots')"
   ]
  },
  {
   "cell_type": "markdown",
   "metadata": {},
   "source": [
    "## **Rating Distributions**"
   ]
  },
  {
   "cell_type": "code",
   "execution_count": null,
   "metadata": {
    "ExecuteTime": {
     "end_time": "2022-05-23T18:15:26.692020Z",
     "start_time": "2022-05-23T18:15:25.883020Z"
    }
   },
   "outputs": [],
   "source": [
    "plt.figure(figsize=(9,7))\n",
    "sns.distplot(df['Review_rating'],bins=20)"
   ]
  },
  {
   "cell_type": "markdown",
   "metadata": {},
   "source": [
    "*  **Insight**\n",
    "\n",
    "  We can infer from above that most of the ratings are within 3.0 and 4.5\n",
    "\n"
   ]
  },
  {
   "cell_type": "code",
   "execution_count": null,
   "metadata": {
    "ExecuteTime": {
     "end_time": "2022-05-23T18:15:26.849023Z",
     "start_time": "2022-05-23T18:15:26.693020Z"
    }
   },
   "outputs": [],
   "source": [
    "#Distribution of the Total_reviews  Vs Review_rating in parallel with Price Range\n",
    "plt.figure(figsize=(5,4))\n",
    "sns.scatterplot(x=\"Review_rating\",y='Total_reviews',hue='Price_Range',data=df)\n",
    "plt.show() "
   ]
  },
  {
   "cell_type": "code",
   "execution_count": null,
   "metadata": {
    "ExecuteTime": {
     "end_time": "2022-05-23T18:15:27.007020Z",
     "start_time": "2022-05-23T18:15:26.850025Z"
    }
   },
   "outputs": [],
   "source": [
    "#Distribution of the cost Vs ratings in parallel with online order\n",
    "plt.figure(figsize=(5,4))\n",
    "sns.scatterplot(x=\"Population\",y='Total_reviews',hue='Price_Range',data=df)\n",
    "plt.show() "
   ]
  },
  {
   "cell_type": "code",
   "execution_count": null,
   "metadata": {},
   "outputs": [],
   "source": []
  },
  {
   "cell_type": "code",
   "execution_count": null,
   "metadata": {
    "ExecuteTime": {
     "end_time": "2022-05-23T18:15:27.811021Z",
     "start_time": "2022-05-23T18:15:27.008020Z"
    }
   },
   "outputs": [],
   "source": [
    "#Distribution of the cost Vs ratings in parallel with online order\n",
    "plt.figure(figsize=(10,25))\n",
    "sns.scatterplot(x=\"Price_Range\",y='Cuisine',hue='Review_rating',data=df)\n",
    "plt.show() "
   ]
  },
  {
   "cell_type": "markdown",
   "metadata": {
    "ExecuteTime": {
     "end_time": "2022-05-21T07:27:27.285965Z",
     "start_time": "2022-05-21T07:27:27.274965Z"
    }
   },
   "source": [
    "## **Cuisines Types**"
   ]
  },
  {
   "cell_type": "code",
   "execution_count": null,
   "metadata": {
    "ExecuteTime": {
     "end_time": "2022-05-23T18:15:28.714021Z",
     "start_time": "2022-05-23T18:15:27.812023Z"
    }
   },
   "outputs": [],
   "source": [
    "#Types of Cuisine\n",
    "\n",
    "sns.countplot(df['Cuisine']).set_xticklabels(sns.countplot(df['Cuisine']).get_xticklabels(), rotation=90, ha=\"right\")\n",
    "fig = plt.gcf()\n",
    "fig.set_size_inches(20,12)\n",
    "plt.title('Cuisine')"
   ]
  },
  {
   "cell_type": "code",
   "execution_count": null,
   "metadata": {
    "ExecuteTime": {
     "end_time": "2022-05-23T18:15:28.824020Z",
     "start_time": "2022-05-23T18:15:28.715020Z"
    },
    "scrolled": true
   },
   "outputs": [],
   "source": [
    "slices=[((df['Review_rating']>=1) & (df['Review_rating']<2)).sum(),\n",
    "        ((df['Review_rating']>=2) & (df['Review_rating']<3)).sum(),\n",
    "        ((df['Review_rating']>=3) & (df['Review_rating']<4)).sum(),\n",
    "        (df['Review_rating']>=4).sum()\n",
    "        ]\n",
    "\n",
    "labels=['1 < Review_rating < 2','2 < Review_rating < 3','3 < Review_rating < 4','> 4']\n",
    "colors = ['#ff3333','#c2c2d6','#6699ff']\n",
    "plt.pie(slices,colors=colors, labels=labels, autopct='%1.0f%%', pctdistance=.5, labeldistance=1.2,shadow=True)\n",
    "fig = plt.gcf()\n",
    "plt.title(\"Percentage of Restaurants according to their ratings\")\n",
    "\n",
    "fig.set_size_inches(10,10)\n",
    "plt.show()"
   ]
  },
  {
   "cell_type": "code",
   "execution_count": null,
   "metadata": {
    "ExecuteTime": {
     "end_time": "2022-05-23T18:15:28.872022Z",
     "start_time": "2022-05-23T18:15:28.825020Z"
    }
   },
   "outputs": [],
   "source": [
    "trace0=go.Box(y=df['Price_Range'],name=\"Accepting Price_Range\",\n",
    "              marker = dict(\n",
    "        color = 'rgb(113, 10, 100)',\n",
    "    ))\n",
    "data=[trace0]\n",
    "layout=go.Layout(title=\"Box plot of Approximate Price Range\",width=800,height=800,yaxis=dict(title=\"Price_Range\"))\n",
    "fig=go.Figure(data=data,layout=layout)\n",
    "py.iplot(fig)"
   ]
  },
  {
   "cell_type": "code",
   "execution_count": null,
   "metadata": {
    "ExecuteTime": {
     "end_time": "2022-05-23T18:15:29.047020Z",
     "start_time": "2022-05-23T18:15:28.873022Z"
    }
   },
   "outputs": [],
   "source": [
    "plt.figure(figsize=(8,8))\n",
    "sns.distplot(df['Price_Range'])\n",
    "plt.show()"
   ]
  },
  {
   "cell_type": "markdown",
   "metadata": {},
   "source": [
    "**Cuisine and their counts**"
   ]
  },
  {
   "cell_type": "code",
   "execution_count": null,
   "metadata": {
    "ExecuteTime": {
     "end_time": "2022-05-23T18:15:29.219020Z",
     "start_time": "2022-05-23T18:15:29.052020Z"
    }
   },
   "outputs": [],
   "source": [
    "plt.figure(figsize=(15,7))\n",
    "rest=df['Cuisine'].value_counts()[:20]\n",
    "sns.barplot(rest,rest.index)\n",
    "plt.title(\"Cuisine types\")\n",
    "plt.xlabel(\"count\")"
   ]
  },
  {
   "cell_type": "markdown",
   "metadata": {},
   "source": [
    "# **Building Our Model**"
   ]
  },
  {
   "cell_type": "code",
   "execution_count": null,
   "metadata": {
    "ExecuteTime": {
     "end_time": "2022-05-23T18:15:29.235020Z",
     "start_time": "2022-05-23T18:15:29.220021Z"
    }
   },
   "outputs": [],
   "source": [
    "df.head()"
   ]
  },
  {
   "cell_type": "code",
   "execution_count": null,
   "metadata": {
    "ExecuteTime": {
     "end_time": "2022-05-23T18:15:29.251022Z",
     "start_time": "2022-05-23T18:15:29.236020Z"
    }
   },
   "outputs": [],
   "source": [
    "from sklearn.preprocessing import LabelEncoder\n",
    "le = LabelEncoder()\n",
    "\n",
    "\n",
    "# Name              object\n",
    "# Cuisine           object\n",
    "# Review_rating    float64\n",
    "# Total_reviews      int64\n",
    "# Price_Range        int64\n",
    "# Zip_code           int64\n",
    "# State             object\n",
    "# City              object\n",
    "# Population       float64\n",
    "# Gross_income     float64\n",
    "# User_salary      float64"
   ]
  },
  {
   "cell_type": "code",
   "execution_count": null,
   "metadata": {
    "ExecuteTime": {
     "end_time": "2022-05-23T18:15:29.267022Z",
     "start_time": "2022-05-23T18:15:29.252024Z"
    }
   },
   "outputs": [],
   "source": [
    "df.dtypes"
   ]
  },
  {
   "cell_type": "code",
   "execution_count": null,
   "metadata": {
    "ExecuteTime": {
     "end_time": "2022-05-23T18:15:29.489021Z",
     "start_time": "2022-05-23T18:15:29.268021Z"
    }
   },
   "outputs": [],
   "source": [
    "# Correlation matrix for all characteristics\n",
    "corrMat = df.corr()\n",
    "\n",
    "# Determine which correlations are significant, and drop the others\n",
    "# Assuming correlation values >= 0.8 are significant\n",
    "\n",
    "corrValues = corrMat.unstack().abs()\n",
    "c = [corrValues.drop(i, inplace = True) for i, v in corrValues.items()\n",
    "     if i[0] == i[1]                           # left and right index are the same\n",
    "     or v < 0.8                                # Value is insignificant\n",
    "     or (i[1], i[0]) in corrValues.index]      # repeated correlation values\n",
    "\n",
    "# Sort and print the correlation values\n",
    "print('Characteristics with significant correlations:\\n{}\\n'.format(corrValues.sort_values(ascending = False)))\n",
    "\n",
    "# Print the figure\n",
    "sns.set(font_scale = 1.0, rc = {'figure.figsize': (12, 10)})\n",
    "sns.heatmap(corrMat, vmax = 0.8, square = True)"
   ]
  },
  {
   "cell_type": "code",
   "execution_count": null,
   "metadata": {
    "ExecuteTime": {
     "end_time": "2022-05-23T18:15:29.681019Z",
     "start_time": "2022-05-23T18:15:29.490021Z"
    }
   },
   "outputs": [],
   "source": [
    "# CORRELATION MAP TO SEE HOW FEATURES ARE CORRELATED \n",
    "corrmat = df.corr()\n",
    "plt.subplots(figsize=(15,8))\n",
    "# Generate a custom diverging colormap\n",
    "cmap = sns.diverging_palette(219, 9, as_cmap=True)\n",
    "\n",
    "# Draw the heatmap with the mask and correct aspect ratio\n",
    "sns.heatmap(corrmat, cmap=cmap, vmax=.3, center=0,\n",
    "            square=True, linewidths=.5, cbar_kws={'shrink': .5}) #annot=True/False\n",
    "plt.show()"
   ]
  },
  {
   "cell_type": "code",
   "execution_count": null,
   "metadata": {
    "ExecuteTime": {
     "end_time": "2022-05-23T18:15:29.823020Z",
     "start_time": "2022-05-23T18:15:29.682021Z"
    }
   },
   "outputs": [],
   "source": [
    "# THE FEATURES MOSTLY CORRELATED TO ZIP_CODE without bias\n",
    "cols = df.dtypes[df.dtypes != 'object'].index\n",
    "corrs=[]\n",
    "for item in cols:\n",
    "    corrs.append((df[item].corr(df['User_salary'])))\n",
    "    \n",
    "ist = pd.DataFrame(\n",
    "    {'cols': cols,\n",
    "     'corrs': corrs\n",
    "    })\n",
    "ist = ist.sort_values(by='corrs', ascending=False)\n",
    "#ist.head()\n",
    "plt.subplots(figsize=(19, 4))\n",
    "sns.barplot(x=ist['cols'], y=ist['corrs'])\n",
    "plt.xticks(rotation=90)\n",
    "plt.ylabel('Number of Unique-Values', fontsize=13)\n",
    "plt.xlabel('Column-Names', fontsize=13)\n",
    "plt.title('The features mostly corrilated to User salary')\n",
    "plt.show()"
   ]
  },
  {
   "cell_type": "code",
   "execution_count": null,
   "metadata": {
    "ExecuteTime": {
     "end_time": "2022-05-23T18:15:29.839020Z",
     "start_time": "2022-05-23T18:15:29.824021Z"
    }
   },
   "outputs": [],
   "source": [
    "# Name              object\n",
    "# Cuisine            int32\n",
    "# Review_rating    float64\n",
    "# Total_reviews      int64\n",
    "# Price_Range        int64\n",
    "# Zip_code           int64\n",
    "# State             object\n",
    "# City              object\n",
    "# Population       float64\n",
    "# Gross_income     float64\n",
    "# User_salary      float64\n",
    "df.head()"
   ]
  },
  {
   "cell_type": "code",
   "execution_count": null,
   "metadata": {
    "ExecuteTime": {
     "end_time": "2022-05-23T18:15:29.854024Z",
     "start_time": "2022-05-23T18:15:29.841026Z"
    }
   },
   "outputs": [],
   "source": [
    "# Converting the Cuisine into numerical_values using get_dummies method\n",
    "dummy_cols = pd.get_dummies(df.Cuisine)\n",
    "df_1 = pd.concat([df,dummy_cols], axis='columns')"
   ]
  },
  {
   "cell_type": "code",
   "execution_count": null,
   "metadata": {
    "ExecuteTime": {
     "end_time": "2022-05-23T18:15:29.869023Z",
     "start_time": "2022-05-23T18:15:29.856022Z"
    }
   },
   "outputs": [],
   "source": [
    "df_1.head()"
   ]
  },
  {
   "cell_type": "code",
   "execution_count": null,
   "metadata": {
    "ExecuteTime": {
     "end_time": "2022-05-23T18:15:29.901021Z",
     "start_time": "2022-05-23T18:15:29.870022Z"
    }
   },
   "outputs": [],
   "source": [
    "# own_data = df.iloc[:,[2,3,4,5,6,9,10,11]]\n",
    "own_data = df_1.drop([ \"User_salary\",\"Name\",\"Cuisine\",\"State\",\"City\",\"id\"], axis='columns')\n",
    "own_data.to_csv('own_data.csv') \n",
    "own_data.head()"
   ]
  },
  {
   "cell_type": "code",
   "execution_count": null,
   "metadata": {
    "ExecuteTime": {
     "end_time": "2022-05-23T18:15:29.917021Z",
     "start_time": "2022-05-23T18:15:29.902021Z"
    }
   },
   "outputs": [],
   "source": [
    "x = df_1.drop([\"Gross_income\" ,'User_salary',\"Name\",\"Total_reviews\", \"Cuisine\",\"State\",\"City\",\"id\"], axis='columns')\n",
    "y = df_1['User_salary']"
   ]
  },
  {
   "cell_type": "code",
   "execution_count": null,
   "metadata": {
    "ExecuteTime": {
     "end_time": "2022-05-23T18:15:29.933021Z",
     "start_time": "2022-05-23T18:15:29.919022Z"
    }
   },
   "outputs": [],
   "source": [
    "x.head()"
   ]
  },
  {
   "cell_type": "code",
   "execution_count": null,
   "metadata": {
    "ExecuteTime": {
     "end_time": "2022-05-23T18:15:29.949023Z",
     "start_time": "2022-05-23T18:15:29.935025Z"
    }
   },
   "outputs": [],
   "source": [
    "x.dtypes"
   ]
  },
  {
   "cell_type": "code",
   "execution_count": null,
   "metadata": {
    "ExecuteTime": {
     "end_time": "2022-05-23T18:15:29.965020Z",
     "start_time": "2022-05-23T18:15:29.951024Z"
    }
   },
   "outputs": [],
   "source": [
    "# x = df.iloc[:,[2,3,4,5,6,9]]\n",
    "y.head()"
   ]
  },
  {
   "cell_type": "code",
   "execution_count": null,
   "metadata": {
    "ExecuteTime": {
     "end_time": "2022-05-23T18:15:29.981021Z",
     "start_time": "2022-05-23T18:15:29.966022Z"
    }
   },
   "outputs": [],
   "source": [
    "# Using GridSearchCV to find the best algorithm for this problem\n",
    "from sklearn.model_selection import GridSearchCV\n",
    "from sklearn.model_selection import ShuffleSplit\n",
    "from sklearn.linear_model import LinearRegression\n",
    "from sklearn.linear_model import Lasso\n",
    "from sklearn.tree import DecisionTreeRegressor\n",
    "from sklearn.ensemble import RandomForestRegressor\n",
    "from sklearn.ensemble import  ExtraTreesRegressor\n",
    "from sklearn.metrics import r2_score"
   ]
  },
  {
   "cell_type": "code",
   "execution_count": null,
   "metadata": {
    "ExecuteTime": {
     "end_time": "2022-05-23T18:15:30.565019Z",
     "start_time": "2022-05-23T18:15:29.982022Z"
    }
   },
   "outputs": [],
   "source": [
    "def best_model(x, y):\n",
    "    models = {\n",
    "        'linear_regression': {\n",
    "            'model': LinearRegression(),\n",
    "            'parameters': {\n",
    "                'normalize': [True,False]\n",
    "            }\n",
    "        },\n",
    "        \n",
    "        'lasso': {\n",
    "            'model': Lasso(),\n",
    "            'parameters': {\n",
    "                'alpha': [1,2],\n",
    "                'selection': ['random', 'cyclic']\n",
    "            }\n",
    "        },\n",
    "        \n",
    "        'decision_tree': {\n",
    "            'model': DecisionTreeRegressor(),\n",
    "            'parameters': {\n",
    "                'criterion': ['mse', 'friedman_mse'],\n",
    "                'splitter': ['best', 'random']\n",
    "            }\n",
    "        }\n",
    "    }\n",
    "    \n",
    "    scores = []\n",
    "    cv_x_y = ShuffleSplit(n_splits=5, test_size=0.20, random_state=10)\n",
    "    \n",
    "    for model_name, model_params in models.items():\n",
    "        gs = GridSearchCV(model_params['model'], model_params['parameters'], cv=cv_x_y, return_train_score=True)\n",
    "        gs.fit(x, y)\n",
    "        scores.append({\n",
    "            'model': model_name,\n",
    "            'best_parameters': gs.best_params_,\n",
    "            'accuracy': gs.best_score_\n",
    "        })\n",
    "    return pd.DataFrame(scores, columns=['model', 'best_parameters', 'accuracy'])\n",
    "\n",
    "best_model(x, y)"
   ]
  },
  {
   "cell_type": "code",
   "execution_count": null,
   "metadata": {
    "ExecuteTime": {
     "end_time": "2022-05-23T18:15:30.580020Z",
     "start_time": "2022-05-23T18:15:30.567023Z"
    }
   },
   "outputs": [],
   "source": [
    "# x_train,x_test,y_train,y_test=train_test_split(x,y,test_size=.3,random_state=10)\n",
    "# Splitting the dataset into train and test set\n",
    "from sklearn.model_selection import train_test_split\n",
    "x_train, x_test, y_train, y_test = train_test_split(x, y, test_size=0.20, random_state=20)"
   ]
  },
  {
   "cell_type": "code",
   "execution_count": null,
   "metadata": {
    "ExecuteTime": {
     "end_time": "2022-05-23T18:15:30.754020Z",
     "start_time": "2022-05-23T18:15:30.581021Z"
    }
   },
   "outputs": [],
   "source": [
    "#Preparing Extra Tree Regression\n",
    "ET_Model=ExtraTreesRegressor(n_estimators = 120)\n",
    "ET_Model.fit(x_train,y_train)\n",
    "y_predict=ET_Model.predict(x_test)\n",
    "r2_score(y_test,y_predict)\n",
    "ET_Model.score(x_test, y_test)"
   ]
  },
  {
   "cell_type": "code",
   "execution_count": null,
   "metadata": {
    "ExecuteTime": {
     "end_time": "2022-05-23T18:15:30.770020Z",
     "start_time": "2022-05-23T18:15:30.755020Z"
    }
   },
   "outputs": [],
   "source": [
    "DT_Model = DecisionTreeRegressor()\n",
    "DT_Model.fit(x_train, y_train)\n",
    "DT_Model.score(x_test, y_test)"
   ]
  },
  {
   "cell_type": "code",
   "execution_count": null,
   "metadata": {
    "ExecuteTime": {
     "end_time": "2022-05-23T18:15:31.622020Z",
     "start_time": "2022-05-23T18:15:30.771023Z"
    }
   },
   "outputs": [],
   "source": [
    "RF_Model=RandomForestRegressor(n_estimators=650,random_state=245,min_samples_leaf=.0001)\n",
    "RF_Model.fit(x_train,y_train)\n",
    "y_predict=RF_Model.predict(x_test)\n",
    "RF_Model.score(x_test, y_test)"
   ]
  },
  {
   "cell_type": "markdown",
   "metadata": {},
   "source": [
    "### Since the Random Forest Regressor has the highest accuracy, the model selected for this problem is RandomForestRegressor"
   ]
  },
  {
   "cell_type": "markdown",
   "metadata": {
    "ExecuteTime": {
     "end_time": "2022-05-22T11:37:43.998081Z",
     "start_time": "2022-05-22T11:37:43.943080Z"
    },
    "scrolled": true
   },
   "source": [
    "# Predicting the values using our trained model"
   ]
  },
  {
   "cell_type": "markdown",
   "metadata": {},
   "source": [
    "#### Dummy Data  Cuisines"
   ]
  },
  {
   "cell_type": "code",
   "execution_count": null,
   "metadata": {
    "ExecuteTime": {
     "end_time": "2022-05-23T18:15:31.637020Z",
     "start_time": "2022-05-23T18:15:31.623020Z"
    }
   },
   "outputs": [],
   "source": [
    "Cuisines = ['American(New)',\n",
    "'American(Traditional)',\n",
    "'AsianFusion',\n",
    "'Bakeries',\n",
    "'Barbeque',\n",
    "'Bars',\n",
    "'BeerBar',\n",
    "'Beer',\n",
    "'Wine&Spirits',\n",
    "'Breakfast&Brunch',\n",
    "'Brewpubs',\n",
    "'BubbleTea',\n",
    "'Burgers',\n",
    "'Cafes',\n",
    "'Cajun/Creole',\n",
    "'CandyStores',\n",
    "'Cantonese',\n",
    "'Caribbean',\n",
    "'Cheesesteaks',\n",
    "'ChickenShop',\n",
    "'ChickenWings',\n",
    "'Chinese',\n",
    "'CocktailBars',\n",
    "'Coffee&Tea',\n",
    "'ComfortFood',\n",
    "'Creperies',\n",
    "'Cuban',\n",
    "'Delis',\n",
    "'Desserts',\n",
    "'Diners',\n",
    "'DiveBars',\n",
    "'Do-It-YourselfFood',\n",
    "'Dominican',\n",
    "'Donuts',\n",
    "'Ethiopian',\n",
    "'FastFood',\n",
    "'FoodCourt',\n",
    "'FoodDeliveryServices',\n",
    "'FoodStands',\n",
    "'FoodTrucks',\n",
    "'French',\n",
    "'Gastropubs',\n",
    "'Greek',\n",
    "'Halal',\n",
    "'Hawaiian',\n",
    "'HotDogs',\n",
    "'HotPot',\n",
    "'IceCream&FrozenYogurt',\n",
    "'Indian',\n",
    "'Italian',\n",
    "'Japanese',\n",
    "'Jazz&Blues',\n",
    "'JuiceBars&Smoothies',\n",
    "'Korean',\n",
    "'Laotian',\n",
    "'LatinAmerican',\n",
    "'Malaysian',\n",
    "'MeatShops',\n",
    "'Mediterranean',\n",
    "'Mexican',\n",
    "'MiddleEastern',\n",
    "'ModernEuropean',\n",
    "'Noodles',\n",
    "'Persian/Iranian',\n",
    "'Pizza',\n",
    "'Pubs',\n",
    "'Ramen',\n",
    "'Restaurants',\n",
    "'Salad',\n",
    "'Sandwiches',\n",
    "'Seafood',\n",
    "'Smokehouse',\n",
    "'SoulFood',\n",
    "'Southern',\n",
    "'Spanish',\n",
    "'SpecialtyFood',\n",
    "'SportsBars',\n",
    "'Steakhouses',\n",
    "'StreetVendors',\n",
    "'SushiBars',\n",
    "'Szechuan',\n",
    "'Tacos',\n",
    "'TapasBars',\n",
    "'Tex-Mex',\n",
    "'Thai',\n",
    "'Trinidadian',\n",
    "'Turkish',\n",
    "'Vegan',\n",
    "'Vegetarian',\n",
    "'Venezuelan',\n",
    "'Venues&EventSpaces',\n",
    "'Vietnamese']\n",
    "\n",
    "# 'Poke', # removed \n"
   ]
  },
  {
   "cell_type": "markdown",
   "metadata": {},
   "source": [
    "#### Dummy Data  Zip_code"
   ]
  },
  {
   "cell_type": "code",
   "execution_count": null,
   "metadata": {
    "ExecuteTime": {
     "end_time": "2022-05-23T18:15:31.653020Z",
     "start_time": "2022-05-23T18:15:31.638021Z"
    }
   },
   "outputs": [],
   "source": [
    "Zip_code = [30030, 30084, 30303, 30305, 30306, 30307, 30308, 30309, 30320,\n",
    "       30324, 30326, 30361, 30033, 30346, 30319, 30328, 30338, 30013,\n",
    "       30342, 30345, 30075, 30067, 30519, 30214, 30096, 30097, 30360,\n",
    "       30062, 30024, 30350, 30301, 30022, 30144, 30078, 30002]"
   ]
  },
  {
   "cell_type": "markdown",
   "metadata": {},
   "source": [
    "#### Dummy Data  Populations"
   ]
  },
  {
   "cell_type": "code",
   "execution_count": null,
   "metadata": {
    "ExecuteTime": {
     "end_time": "2022-05-23T18:16:37.941068Z",
     "start_time": "2022-05-23T18:16:37.933069Z"
    }
   },
   "outputs": [],
   "source": [
    "Populations = [5000, 10000, 15000, 20000]"
   ]
  },
  {
   "cell_type": "markdown",
   "metadata": {},
   "source": [
    "### Creating a fuction to predict values"
   ]
  },
  {
   "cell_type": "code",
   "execution_count": null,
   "metadata": {
    "ExecuteTime": {
     "end_time": "2022-05-23T18:16:39.377069Z",
     "start_time": "2022-05-23T18:16:39.374069Z"
    }
   },
   "outputs": [],
   "source": [
    "# prediction(x, \"Seafood\", 4.0 , 2, 30305, 12299.0)\n",
    "def prediction( model, Cuisine, Review_rating, Price_Range, Zip_code, Population):\n",
    "    temp_Cuisine = list(range(len(Cuisines)))\n",
    "    for idx, Cuisine_val in enumerate(Cuisines):\n",
    "        temp_Cuisine[idx] = 0\n",
    "        if Cuisine_val == Cuisine :\n",
    "            temp_Cuisine[idx] = 1\n",
    "    \n",
    "    temp_data = [Review_rating , Price_Range, Zip_code, Population ]   \n",
    "    data = temp_data + temp_Cuisine\n",
    "    data = [data]\n",
    "    predict =RF_Model.predict(data)\n",
    "    predict = float(str(round(predict[0], 2)))\n",
    "    return predict"
   ]
  },
  {
   "cell_type": "markdown",
   "metadata": {},
   "source": [
    "#### To predict values"
   ]
  },
  {
   "cell_type": "code",
   "execution_count": null,
   "metadata": {
    "ExecuteTime": {
     "end_time": "2022-05-23T18:16:40.167067Z",
     "start_time": "2022-05-23T18:16:40.121068Z"
    }
   },
   "outputs": [],
   "source": [
    "# prediction(Cuisine, Review_rating, Price_Range, Zip_code, Population):\n",
    "# 4.0\t2\t30305\t14265.0\t\n",
    "\n",
    "# Review_rating            float64\n",
    "# Price_Range                int64\n",
    "# Zip_code                   int64\n",
    "# Population               float64\n",
    "\n",
    "predict = prediction(RF_Model, \"Seafood\", 4.0 , 2 ,30305, 12299.0)\n",
    "predict"
   ]
  },
  {
   "cell_type": "markdown",
   "metadata": {},
   "source": [
    "#### To Create Prediction data for full range of Cuisine, Review_rating, Price_Range, Zip_code, Population given for a Demo"
   ]
  },
  {
   "cell_type": "code",
   "execution_count": null,
   "metadata": {
    "ExecuteTime": {
     "end_time": "2022-05-23T19:53:44.960990Z",
     "start_time": "2022-05-23T18:18:22.574069Z"
    }
   },
   "outputs": [],
   "source": [
    "import numpy as np\n",
    "header = ['Cuisine', 'Rating', 'Range', 'Zip', 'Population', 'predict']\n",
    "data = []\n",
    "\n",
    "\n",
    "for idx, Cuisine_val in enumerate(Cuisines):\n",
    "    element = []\n",
    "    for Rating in np.arange(2, 5,0.5):\n",
    "        for Range in np.arange(1, 3,1):\n",
    "            for jdx, Zip in enumerate(Zip_code):\n",
    "                for Population in Populations:\n",
    "                    predict = prediction(RF_Model, Cuisine_val, Rating , Range , Zip, Population)\n",
    "                    data.append([Cuisine_val, Rating, Range, Zip, Population, predict])\n",
    "data = pd.DataFrame(data, columns=header)\n",
    "data.to_csv('predict_data.csv', index=False)"
   ]
  },
  {
   "cell_type": "code",
   "execution_count": null,
   "metadata": {
    "ExecuteTime": {
     "end_time": "2022-05-23T18:15:32.233020Z",
     "start_time": "2022-05-23T18:15:32.233020Z"
    }
   },
   "outputs": [],
   "source": [
    "# # # Creating a fuction to predict values dummy\n",
    "\n",
    "# def prediction( x, Cuisine, Review_rating, Price_Range, Zip_code, Population):\n",
    "    \n",
    "#     cuisine_index = -1\n",
    "#     temp_df=x\n",
    "#     if Cuisine!=' ':\n",
    "#         cuisine_index = int(np.where(temp_df.columns==Cuisine)[0][0])\n",
    "\n",
    "#     x = np.zeros(len(temp_df.columns))\n",
    "#     x[0] = Review_rating\n",
    "#     x[1] = Price_Range36\n",
    "#     x[2] = Zip_code\n",
    "#     x[3] = Population\n",
    "    \n",
    "#     if cuisine_index >= 0:\n",
    "#         x[cuisine_index] = 1\n",
    "        \n",
    "#     return model.predict([x])[0]        "
   ]
  },
  {
   "cell_type": "code",
   "execution_count": null,
   "metadata": {
    "ExecuteTime": {
     "end_time": "2022-05-23T18:15:32.234020Z",
     "start_time": "2022-05-23T18:15:32.234020Z"
    }
   },
   "outputs": [],
   "source": [
    "import pickle \n",
    "# Saving model to disk\n",
    "pickle.dump(RF_Model, open('model.pkl','wb'))\n",
    "model=pickle.load(open('model.pkl','rb'))"
   ]
  },
  {
   "cell_type": "code",
   "execution_count": null,
   "metadata": {},
   "outputs": [],
   "source": []
  },
  {
   "cell_type": "code",
   "execution_count": null,
   "metadata": {},
   "outputs": [],
   "source": []
  },
  {
   "cell_type": "code",
   "execution_count": null,
   "metadata": {},
   "outputs": [],
   "source": []
  },
  {
   "cell_type": "code",
   "execution_count": null,
   "metadata": {},
   "outputs": [],
   "source": []
  },
  {
   "cell_type": "code",
   "execution_count": null,
   "metadata": {},
   "outputs": [],
   "source": []
  },
  {
   "cell_type": "code",
   "execution_count": null,
   "metadata": {},
   "outputs": [],
   "source": []
  },
  {
   "cell_type": "code",
   "execution_count": null,
   "metadata": {},
   "outputs": [],
   "source": []
  },
  {
   "cell_type": "code",
   "execution_count": null,
   "metadata": {},
   "outputs": [],
   "source": []
  },
  {
   "cell_type": "code",
   "execution_count": null,
   "metadata": {},
   "outputs": [],
   "source": []
  },
  {
   "cell_type": "code",
   "execution_count": null,
   "metadata": {},
   "outputs": [],
   "source": []
  },
  {
   "cell_type": "code",
   "execution_count": null,
   "metadata": {},
   "outputs": [],
   "source": []
  }
 ],
 "metadata": {
  "kernelspec": {
   "display_name": "Python 3",
   "language": "python",
   "name": "python3"
  },
  "language_info": {
   "codemirror_mode": {
    "name": "ipython",
    "version": 3
   },
   "file_extension": ".py",
   "mimetype": "text/x-python",
   "name": "python",
   "nbconvert_exporter": "python",
   "pygments_lexer": "ipython3",
   "version": "3.8.3"
  },
  "varInspector": {
   "cols": {
    "lenName": 16,
    "lenType": 16,
    "lenVar": 40
   },
   "kernels_config": {
    "python": {
     "delete_cmd_postfix": "",
     "delete_cmd_prefix": "del ",
     "library": "var_list.py",
     "varRefreshCmd": "print(var_dic_list())"
    },
    "r": {
     "delete_cmd_postfix": ") ",
     "delete_cmd_prefix": "rm(",
     "library": "var_list.r",
     "varRefreshCmd": "cat(var_dic_list()) "
    }
   },
   "types_to_exclude": [
    "module",
    "function",
    "builtin_function_or_method",
    "instance",
    "_Feature"
   ],
   "window_display": false
  }
 },
 "nbformat": 4,
 "nbformat_minor": 5
}
